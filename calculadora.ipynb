{
 "cells": [
  {
   "cell_type": "code",
   "execution_count": null,
   "metadata": {},
   "outputs": [],
   "source": [
    "print :float(input(\"ingrese el primer numero que que quiera operar\"))\n",
    "print :float(input(\"ingrese el segundo numero a operar\"))"
   ]
  },
  {
   "cell_type": "code",
   "execution_count": null,
   "metadata": {},
   "outputs": [],
   "source": [
    "def menu():\n",
    "    opciones=''' \n",
    "    *********************\n",
    "    *    1- MENU        *\n",
    "    *     2-SUMA        *\n",
    "    *     3-RESTA       *\n",
    "    * 4-MULTIPLICACION  *\n",
    "    *   5-DIVISION      *\n",
    "    *********************\n",
    "    '''\n",
    "    print=opciones\n",
    "    opcion=int(input(\"ingrese la operacion que desea realizar\"))\n",
    "    return(opcion)\n"
   ]
  }
 ],
 "metadata": {
  "language_info": {
   "name": "python"
  },
  "orig_nbformat": 4
 },
 "nbformat": 4,
 "nbformat_minor": 2
}
